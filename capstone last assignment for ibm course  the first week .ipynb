{
 "cells": [
  {
   "cell_type": "markdown",
   "metadata": {},
   "source": [
    "Introduction: Service Business Problem(sport facilites): \n",
    "\n",
    "In this project we will try to find an optimal location to establish  a Gym . the report should show the best place in city of Toronto to open a new gym based on presence of other Gyms or training facilities. \n",
    "\n",
    "Based on the  fact that  the  areas in which there are many residential building and not training centers, they  will be the best places to open  gyms.\n",
    ".\n",
    "Data \n",
    "Based on definition of our problem, factors that will influence our decission are:\n",
    "•\tnumber of existing gyms  in the neighborhood.\n",
    "•\tthe presence of residential buildings\n",
    "\n",
    "•\tthe distance from  other gyms or sport facilities.\n",
    "\n",
    "Following data sources will be needed to extract/generate the required information:\n",
    "•\tcenters of candidate areas will be generated algorithmically and approximate addresses of centers of those areas will be obtained using Foursquare API\n",
    "•\tGeocoder will be used to find the latitude and longitude of the addresses.\n",
    "•\tnumber of gyms  and their type and location in every neighborhood will be obtained using Foursquare API\n",
    "\n"
   ]
  },
  {
   "cell_type": "code",
   "execution_count": null,
   "metadata": {},
   "outputs": [],
   "source": []
  }
 ],
 "metadata": {
  "kernelspec": {
   "display_name": "Python 3",
   "language": "python",
   "name": "python3"
  },
  "language_info": {
   "codemirror_mode": {
    "name": "ipython",
    "version": 3
   },
   "file_extension": ".py",
   "mimetype": "text/x-python",
   "name": "python",
   "nbconvert_exporter": "python",
   "pygments_lexer": "ipython3",
   "version": "3.7.3"
  }
 },
 "nbformat": 4,
 "nbformat_minor": 2
}
